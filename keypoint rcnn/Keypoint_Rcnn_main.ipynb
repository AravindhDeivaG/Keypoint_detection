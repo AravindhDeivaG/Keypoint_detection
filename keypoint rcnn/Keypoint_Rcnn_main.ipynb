{
 "cells": [
  {
   "cell_type": "code",
   "execution_count": 1,
   "metadata": {
    "id": "L7XlWB09pCap"
   },
   "outputs": [],
   "source": [
    "import os, json, cv2, numpy as np, matplotlib.pyplot as plt\n",
    "os.environ['CUDA_LAUNCH_BLOCKING'] = \"1\"\n",
    "import torch\n",
    "from torch.utils.data import Dataset, DataLoader\n",
    "\n",
    "import torchvision\n",
    "from torchvision.models.detection.rpn import AnchorGenerator\n",
    "from torchvision.transforms import functional as F"
   ]
  },
  {
   "cell_type": "code",
   "execution_count": 2,
   "metadata": {
    "colab": {
     "base_uri": "https://localhost:8080/"
    },
    "id": "PF2t1Nit2XZN",
    "outputId": "93089aff-a747-49d8-9008-b22bf2bc5cd4"
   },
   "outputs": [
    {
     "name": "stdout",
     "output_type": "stream",
     "text": [
      "fatal: destination path 'vision' already exists and is not an empty directory.\r\n"
     ]
    }
   ],
   "source": [
    "!git clone https://github.com/pytorch/vision.git\n",
    "cwd = os.getcwd()\n",
    "os.chdir('vision/references/detection')\n",
    "import transforms, utils, engine, train\n",
    "from utils import collate_fn\n",
    "from engine import train_one_epoch, evaluate\n",
    "os.chdir(cwd)"
   ]
  },
  {
   "cell_type": "code",
   "execution_count": 3,
   "metadata": {
    "colab": {
     "base_uri": "https://localhost:8080/"
    },
    "id": "63pItLYlcyKb",
    "outputId": "a2853435-642a-4b07-b6c5-6e4acebea3e9"
   },
   "outputs": [
    {
     "name": "stdout",
     "output_type": "stream",
     "text": [
      "################################Done loading images :)\n"
     ]
    }
   ],
   "source": [
    "import cv2\n",
    "import os\n",
    "import numpy as np\n",
    "\n",
    "def load_images_from_folder(folder):\n",
    "    images = []\n",
    "    i=0\n",
    "    filenames = []\n",
    "    for filename in os.listdir(folder):\n",
    "      i+=1\n",
    "      filenames.append(filename)\n",
    "      if(i%20==0):\n",
    "        print('#',end = '')\n",
    "      img = cv2.imread(os.path.join(folder,filename))\n",
    "      if img is not None:\n",
    "          images.append(img)\n",
    "    print('Done loading images :)')\n",
    "    return images,filenames\n",
    "\n",
    "images,filenames = load_images_from_folder('baxter_real_dataset/Dataset/img')\n",
    "idx = [int(f.split('.')[0]) for f in filenames]\n",
    "key_points = np.loadtxt('baxter_real_dataset/Dataset/pixels.txt')\n",
    "\n",
    "key_points_ = np.copy(key_points)\n",
    "for i in range(len(images)):\n",
    "  j = idx[i]\n",
    "  key_points_[3*i:3*i+2,:] = key_points[3*j:3*j+2,:]\n",
    "\n",
    "key_points = key_points_"
   ]
  },
  {
   "cell_type": "code",
   "execution_count": 4,
   "metadata": {
    "colab": {
     "base_uri": "https://localhost:8080/",
     "height": 737
    },
    "id": "JCY03-YkdKEL",
    "outputId": "55c2dade-ad3d-40c3-c0c0-98c36294980b"
   },
   "outputs": [],
   "source": [
    "def visualize(cv2_img,kp):\n",
    "  img = np.copy(cv2_img)\n",
    "  kp = np.round(kp)\n",
    "  kp = kp.astype(np.int32)\n",
    "  for i in range(4):\n",
    "    x1 = kp[0,i]\n",
    "    y1 = kp[1,i]\n",
    "    x2 = kp[0,i+1]\n",
    "    y2 = kp[1,i+1]\n",
    "    cv2.line(img,(x1,y1),(x2,y2),(0,255,0),5)\n",
    "  cv2.imshow('',img)\n",
    "  cv2.waitKey(0)\n",
    "  cv2.destroyAllWindows()\n",
    "\n",
    "n = 345\n",
    "kp = key_points[3*n:3*n+2,:]\n",
    "visualize(images[n],kp)"
   ]
  },
  {
   "cell_type": "code",
   "execution_count": 5,
   "metadata": {
    "id": "Kcxn08YNloJc"
   },
   "outputs": [],
   "source": [
    "class ClassDataset(Dataset):\n",
    "    def __init__(self):                \n",
    "        self.dataset = True\n",
    "    \n",
    "    def __getitem__(self, idx):\n",
    "      #print(idx)\n",
    "      keypoints_original = key_points[3*idx:3*idx+2,:]\n",
    "      keypoints_original = keypoints_original.T\n",
    "      #print(\"############: \"+str(idx))\n",
    "      min_ = np.min(keypoints_original,0)-5\n",
    "      max_ = np.max(keypoints_original,0)+5\n",
    "      bboxes = [[min_[0],min_[1],max_[0],max_[1]]]\n",
    "      keypoints_original = np.hstack([keypoints_original,np.ones((5,1))])\n",
    "      keypoints_original = np.array([keypoints_original])\n",
    "\n",
    "      bboxes = torch.as_tensor(bboxes, dtype=torch.float32)\n",
    "      target = {}\n",
    "      target[\"boxes\"] = bboxes\n",
    "      target[\"labels\"] = torch.as_tensor([1]) # all objects are glue tubes\n",
    "      target[\"image_id\"] = torch.tensor([i])\n",
    "      target[\"area\"] = (bboxes[:, 3] - bboxes[:, 1]) * (bboxes[:, 2] - bboxes[:, 0])\n",
    "      target[\"iscrowd\"] = torch.zeros(len(bboxes), dtype=torch.int64)\n",
    "      target[\"keypoints\"] = torch.as_tensor(keypoints_original, dtype=torch.float32)     \n",
    "      img = F.to_tensor(images[idx])\n",
    "      return img,target\n",
    "\n",
    "    def __len__(self):\n",
    "        return 650"
   ]
  },
  {
   "cell_type": "code",
   "execution_count": 6,
   "metadata": {
    "id": "CPabnyxDnNAi"
   },
   "outputs": [],
   "source": [
    "def get_model(num_keypoints, weights_path=None):\n",
    "    \n",
    "    anchor_generator = AnchorGenerator(sizes=(32, 64, 128, 256, 512), aspect_ratios=(0.25, 0.5, 0.75, 1.0, 2.0, 3.0, 4.0))\n",
    "    model = torchvision.models.detection.keypointrcnn_resnet50_fpn(pretrained=False,\n",
    "                                                                   pretrained_backbone=True,\n",
    "                                                                   num_keypoints=num_keypoints,\n",
    "                                                                   num_classes = 2, # Background is the first class, object is the second class\n",
    "                                                                   rpn_anchor_generator=anchor_generator)\n",
    "\n",
    "    if weights_path:\n",
    "        state_dict = torch.load(weights_path)\n",
    "        model.load_state_dict(state_dict)        \n",
    "        \n",
    "    return model"
   ]
  },
  {
   "cell_type": "code",
   "execution_count": 7,
   "metadata": {
    "colab": {
     "base_uri": "https://localhost:8080/"
    },
    "id": "JIYhHyJEzNi9",
    "outputId": "70de745b-5db1-4431-c7b7-6f5aa915f331"
   },
   "outputs": [
    {
     "name": "stdout",
     "output_type": "stream",
     "text": [
      "cuda\n"
     ]
    }
   ],
   "source": [
    "device = torch.device('cuda') if torch.cuda.is_available() else torch.device('cpu')\n",
    "model = get_model(num_keypoints = 5)\n",
    "model.to(device)\n",
    "print(device)\n",
    "dataset_train = ClassDataset()\n",
    "data_loader = DataLoader(dataset_train, batch_size=3, shuffle=True, collate_fn=collate_fn)"
   ]
  },
  {
   "cell_type": "code",
   "execution_count": 9,
   "metadata": {
    "colab": {
     "base_uri": "https://localhost:8080/"
    },
    "id": "PfOQra5r2ifI",
    "outputId": "35faa36e-a490-4b1d-bca8-af965984a325"
   },
   "outputs": [
    {
     "name": "stderr",
     "output_type": "stream",
     "text": [
      "/home/cs/.local/lib/python3.6/site-packages/torch/functional.py:445: UserWarning: torch.meshgrid: in an upcoming release, it will be required to pass the indexing argument. (Triggered internally at  ../aten/src/ATen/native/TensorShape.cpp:2157.)\n",
      "  return _VF.meshgrid(tensors, **kwargs)  # type: ignore[attr-defined]\n"
     ]
    },
    {
     "name": "stdout",
     "output_type": "stream",
     "text": [
      "Epoch: [0]  [  0/217]  eta: 0:03:12  lr: 0.000006  loss: 9.4957 (9.4957)  loss_classifier: 0.7402 (0.7402)  loss_box_reg: 0.0004 (0.0004)  loss_keypoint: 8.0554 (8.0554)  loss_objectness: 0.6942 (0.6942)  loss_rpn_box_reg: 0.0055 (0.0055)  time: 0.8882  data: 0.1180  max mem: 3750\n",
      "Epoch: [0]  [ 20/217]  eta: 0:01:44  lr: 0.000098  loss: 9.3491 (9.3336)  loss_classifier: 0.6812 (0.6693)  loss_box_reg: 0.0003 (0.0003)  loss_keypoint: 7.9606 (7.9648)  loss_objectness: 0.6928 (0.6930)  loss_rpn_box_reg: 0.0058 (0.0061)  time: 0.5115  data: 0.0063  max mem: 4079\n",
      "Epoch: [0]  [ 40/217]  eta: 0:01:32  lr: 0.000191  loss: 8.3288 (8.8331)  loss_classifier: 0.2463 (0.4712)  loss_box_reg: 0.0006 (0.0007)  loss_keypoint: 7.4200 (7.6663)  loss_objectness: 0.6870 (0.6890)  loss_rpn_box_reg: 0.0043 (0.0058)  time: 0.5119  data: 0.0064  max mem: 4079\n",
      "Epoch: [0]  [ 60/217]  eta: 0:01:21  lr: 0.000283  loss: 6.5625 (8.1281)  loss_classifier: 0.0471 (0.3331)  loss_box_reg: 0.0045 (0.0030)  loss_keypoint: 5.8884 (7.1184)  loss_objectness: 0.6289 (0.6674)  loss_rpn_box_reg: 0.0062 (0.0062)  time: 0.5173  data: 0.0063  max mem: 4079\n",
      "Epoch: [0]  [ 80/217]  eta: 0:01:11  lr: 0.000376  loss: 6.2074 (7.6919)  loss_classifier: 0.0587 (0.2672)  loss_box_reg: 0.0229 (0.0105)  loss_keypoint: 5.6713 (6.8024)  loss_objectness: 0.4142 (0.6051)  loss_rpn_box_reg: 0.0081 (0.0068)  time: 0.5227  data: 0.0063  max mem: 4079\n",
      "Epoch: [0]  [100/217]  eta: 0:01:01  lr: 0.000468  loss: 5.7196 (7.3037)  loss_classifier: 0.0687 (0.2282)  loss_box_reg: 0.0543 (0.0186)  loss_keypoint: 5.4267 (6.5425)  loss_objectness: 0.1078 (0.5074)  loss_rpn_box_reg: 0.0070 (0.0070)  time: 0.5313  data: 0.0064  max mem: 4079\n",
      "Epoch: [0]  [120/217]  eta: 0:00:51  lr: 0.000561  loss: 4.7258 (6.8794)  loss_classifier: 0.0536 (0.1995)  loss_box_reg: 0.0531 (0.0246)  loss_keypoint: 4.5255 (6.2166)  loss_objectness: 0.0520 (0.4318)  loss_rpn_box_reg: 0.0058 (0.0069)  time: 0.5441  data: 0.0064  max mem: 4079\n",
      "Epoch: [0]  [140/217]  eta: 0:00:40  lr: 0.000653  loss: 4.4977 (6.5493)  loss_classifier: 0.0422 (0.1777)  loss_box_reg: 0.0605 (0.0303)  loss_keypoint: 4.3688 (5.9586)  loss_objectness: 0.0347 (0.3757)  loss_rpn_box_reg: 0.0053 (0.0069)  time: 0.5586  data: 0.0063  max mem: 4079\n",
      "Epoch: [0]  [160/217]  eta: 0:00:30  lr: 0.000746  loss: 4.1076 (6.2418)  loss_classifier: 0.0400 (0.1608)  loss_box_reg: 0.0729 (0.0357)  loss_keypoint: 3.9675 (5.7057)  loss_objectness: 0.0297 (0.3328)  loss_rpn_box_reg: 0.0058 (0.0068)  time: 0.5653  data: 0.0063  max mem: 4079\n",
      "Epoch: [0]  [180/217]  eta: 0:00:19  lr: 0.000838  loss: 3.7997 (5.9808)  loss_classifier: 0.0423 (0.1480)  loss_box_reg: 0.0815 (0.0409)  loss_keypoint: 3.6290 (5.4858)  loss_objectness: 0.0311 (0.2994)  loss_rpn_box_reg: 0.0058 (0.0067)  time: 0.5651  data: 0.0064  max mem: 4079\n",
      "Epoch: [0]  [200/217]  eta: 0:00:09  lr: 0.000931  loss: 3.3740 (5.7367)  loss_classifier: 0.0409 (0.1377)  loss_box_reg: 0.0790 (0.0450)  loss_keypoint: 3.2355 (5.2752)  loss_objectness: 0.0237 (0.2722)  loss_rpn_box_reg: 0.0053 (0.0066)  time: 0.5667  data: 0.0064  max mem: 4079\n",
      "Epoch: [0]  [216/217]  eta: 0:00:00  lr: 0.001000  loss: 3.6964 (5.5866)  loss_classifier: 0.0438 (0.1308)  loss_box_reg: 0.0794 (0.0478)  loss_keypoint: 3.5448 (5.1476)  loss_objectness: 0.0255 (0.2540)  loss_rpn_box_reg: 0.0050 (0.0064)  time: 0.5640  data: 0.0064  max mem: 4079\n",
      "Epoch: [0] Total time: 0:01:57 (0.5428 s / it)\n",
      "Epoch: [0]  [  0/217]  eta: 0:02:10  lr: 0.000006  loss: 3.9280 (3.9280)  loss_classifier: 0.0413 (0.0413)  loss_box_reg: 0.0993 (0.0993)  loss_keypoint: 3.7613 (3.7613)  loss_objectness: 0.0220 (0.0220)  loss_rpn_box_reg: 0.0040 (0.0040)  time: 0.6000  data: 0.0063  max mem: 4079\n",
      "Epoch: [0]  [ 20/217]  eta: 0:01:55  lr: 0.000098  loss: 3.2921 (3.4096)  loss_classifier: 0.0408 (0.0436)  loss_box_reg: 0.0779 (0.0810)  loss_keypoint: 3.1206 (3.2563)  loss_objectness: 0.0244 (0.0236)  loss_rpn_box_reg: 0.0052 (0.0051)  time: 0.5830  data: 0.0064  max mem: 4079\n",
      "Epoch: [0]  [ 40/217]  eta: 0:01:43  lr: 0.000191  loss: 3.0247 (3.2877)  loss_classifier: 0.0460 (0.0460)  loss_box_reg: 0.0817 (0.0831)  loss_keypoint: 2.9131 (3.1309)  loss_objectness: 0.0198 (0.0224)  loss_rpn_box_reg: 0.0051 (0.0053)  time: 0.5824  data: 0.0066  max mem: 4079\n",
      "Epoch: [0]  [ 60/217]  eta: 0:01:31  lr: 0.000283  loss: 2.7552 (3.1164)  loss_classifier: 0.0424 (0.0454)  loss_box_reg: 0.0766 (0.0812)  loss_keypoint: 2.6118 (2.9630)  loss_objectness: 0.0192 (0.0214)  loss_rpn_box_reg: 0.0052 (0.0055)  time: 0.5884  data: 0.0063  max mem: 4079\n",
      "Epoch: [0]  [ 80/217]  eta: 0:01:20  lr: 0.000376  loss: 2.7760 (3.0561)  loss_classifier: 0.0413 (0.0445)  loss_box_reg: 0.0791 (0.0803)  loss_keypoint: 2.6198 (2.9043)  loss_objectness: 0.0200 (0.0214)  loss_rpn_box_reg: 0.0050 (0.0056)  time: 0.5992  data: 0.0066  max mem: 4079\n",
      "Epoch: [0]  [100/217]  eta: 0:01:08  lr: 0.000468  loss: 2.6654 (3.0012)  loss_classifier: 0.0333 (0.0432)  loss_box_reg: 0.0640 (0.0784)  loss_keypoint: 2.5365 (2.8529)  loss_objectness: 0.0163 (0.0212)  loss_rpn_box_reg: 0.0047 (0.0055)  time: 0.5865  data: 0.0064  max mem: 4079\n",
      "Epoch: [0]  [120/217]  eta: 0:00:57  lr: 0.000561  loss: 2.9178 (2.9917)  loss_classifier: 0.0436 (0.0435)  loss_box_reg: 0.0764 (0.0784)  loss_keypoint: 2.7581 (2.8437)  loss_objectness: 0.0157 (0.0205)  loss_rpn_box_reg: 0.0047 (0.0055)  time: 0.5901  data: 0.0064  max mem: 4079\n",
      "Epoch: [0]  [140/217]  eta: 0:00:45  lr: 0.000653  loss: 3.0108 (3.0061)  loss_classifier: 0.0352 (0.0430)  loss_box_reg: 0.0683 (0.0772)  loss_keypoint: 2.9040 (2.8601)  loss_objectness: 0.0189 (0.0203)  loss_rpn_box_reg: 0.0043 (0.0055)  time: 0.5904  data: 0.0067  max mem: 4079\n",
      "Epoch: [0]  [160/217]  eta: 0:00:33  lr: 0.000746  loss: 2.7001 (2.9892)  loss_classifier: 0.0390 (0.0427)  loss_box_reg: 0.0732 (0.0768)  loss_keypoint: 2.5680 (2.8445)  loss_objectness: 0.0157 (0.0198)  loss_rpn_box_reg: 0.0050 (0.0054)  time: 0.5934  data: 0.0065  max mem: 4079\n",
      "Epoch: [0]  [180/217]  eta: 0:00:21  lr: 0.000838  loss: 2.5775 (2.9586)  loss_classifier: 0.0395 (0.0426)  loss_box_reg: 0.0709 (0.0762)  loss_keypoint: 2.4558 (2.8151)  loss_objectness: 0.0147 (0.0194)  loss_rpn_box_reg: 0.0042 (0.0053)  time: 0.5964  data: 0.0063  max mem: 4079\n",
      "Epoch: [0]  [200/217]  eta: 0:00:10  lr: 0.000931  loss: 2.6321 (2.9300)  loss_classifier: 0.0414 (0.0428)  loss_box_reg: 0.0754 (0.0763)  loss_keypoint: 2.4613 (2.7868)  loss_objectness: 0.0129 (0.0188)  loss_rpn_box_reg: 0.0039 (0.0052)  time: 0.6060  data: 0.0063  max mem: 4079\n",
      "Epoch: [0]  [216/217]  eta: 0:00:00  lr: 0.001000  loss: 2.7855 (2.9284)  loss_classifier: 0.0402 (0.0428)  loss_box_reg: 0.0759 (0.0767)  loss_keypoint: 2.6481 (2.7851)  loss_objectness: 0.0143 (0.0187)  loss_rpn_box_reg: 0.0041 (0.0052)  time: 0.5890  data: 0.0063  max mem: 4079\n",
      "Epoch: [0] Total time: 0:02:08 (0.5916 s / it)\n",
      "Epoch: [0]  [  0/217]  eta: 0:01:47  lr: 0.000006  loss: 3.3669 (3.3669)  loss_classifier: 0.0495 (0.0495)  loss_box_reg: 0.0771 (0.0771)  loss_keypoint: 3.2175 (3.2175)  loss_objectness: 0.0189 (0.0189)  loss_rpn_box_reg: 0.0040 (0.0040)  time: 0.4964  data: 0.0090  max mem: 4079\n",
      "Epoch: [0]  [ 20/217]  eta: 0:01:57  lr: 0.000098  loss: 2.5713 (2.6809)  loss_classifier: 0.0355 (0.0378)  loss_box_reg: 0.0631 (0.0671)  loss_keypoint: 2.4635 (2.5585)  loss_objectness: 0.0130 (0.0137)  loss_rpn_box_reg: 0.0037 (0.0038)  time: 0.5996  data: 0.0065  max mem: 4079\n",
      "Epoch: [0]  [ 40/217]  eta: 0:01:45  lr: 0.000191  loss: 2.1929 (2.5026)  loss_classifier: 0.0393 (0.0391)  loss_box_reg: 0.0733 (0.0709)  loss_keypoint: 2.0818 (2.3756)  loss_objectness: 0.0101 (0.0130)  loss_rpn_box_reg: 0.0040 (0.0041)  time: 0.5971  data: 0.0064  max mem: 4079\n",
      "Epoch: [0]  [ 60/217]  eta: 0:01:33  lr: 0.000283  loss: 2.1060 (2.3956)  loss_classifier: 0.0389 (0.0391)  loss_box_reg: 0.0708 (0.0713)  loss_keypoint: 1.9902 (2.2680)  loss_objectness: 0.0107 (0.0126)  loss_rpn_box_reg: 0.0051 (0.0045)  time: 0.6041  data: 0.0067  max mem: 4079\n",
      "Epoch: [0]  [ 80/217]  eta: 0:01:22  lr: 0.000376  loss: 1.9952 (2.3174)  loss_classifier: 0.0352 (0.0386)  loss_box_reg: 0.0667 (0.0702)  loss_keypoint: 1.8844 (2.1926)  loss_objectness: 0.0074 (0.0118)  loss_rpn_box_reg: 0.0031 (0.0043)  time: 0.6179  data: 0.0068  max mem: 4079\n"
     ]
    },
    {
     "name": "stdout",
     "output_type": "stream",
     "text": [
      "Epoch: [0]  [100/217]  eta: 0:01:10  lr: 0.000468  loss: 2.1843 (2.2898)  loss_classifier: 0.0373 (0.0386)  loss_box_reg: 0.0679 (0.0696)  loss_keypoint: 2.0462 (2.1653)  loss_objectness: 0.0107 (0.0117)  loss_rpn_box_reg: 0.0046 (0.0045)  time: 0.6137  data: 0.0072  max mem: 4079\n",
      "Epoch: [0]  [120/217]  eta: 0:00:58  lr: 0.000561  loss: 2.1516 (2.2774)  loss_classifier: 0.0394 (0.0390)  loss_box_reg: 0.0658 (0.0694)  loss_keypoint: 2.0077 (2.1531)  loss_objectness: 0.0089 (0.0114)  loss_rpn_box_reg: 0.0043 (0.0046)  time: 0.6096  data: 0.0068  max mem: 4079\n",
      "Epoch: [0]  [140/217]  eta: 0:00:46  lr: 0.000653  loss: 2.2184 (2.2779)  loss_classifier: 0.0361 (0.0388)  loss_box_reg: 0.0694 (0.0689)  loss_keypoint: 2.0806 (2.1543)  loss_objectness: 0.0100 (0.0114)  loss_rpn_box_reg: 0.0039 (0.0046)  time: 0.6189  data: 0.0073  max mem: 4079\n",
      "Epoch: [0]  [160/217]  eta: 0:00:34  lr: 0.000746  loss: 2.2923 (2.2829)  loss_classifier: 0.0386 (0.0389)  loss_box_reg: 0.0666 (0.0687)  loss_keypoint: 2.1898 (2.1597)  loss_objectness: 0.0078 (0.0112)  loss_rpn_box_reg: 0.0036 (0.0045)  time: 0.6155  data: 0.0065  max mem: 4079\n",
      "Epoch: [0]  [180/217]  eta: 0:00:22  lr: 0.000838  loss: 2.3295 (2.2981)  loss_classifier: 0.0348 (0.0390)  loss_box_reg: 0.0676 (0.0688)  loss_keypoint: 2.1651 (2.1748)  loss_objectness: 0.0094 (0.0111)  loss_rpn_box_reg: 0.0037 (0.0044)  time: 0.6103  data: 0.0064  max mem: 4079\n",
      "Epoch: [0]  [200/217]  eta: 0:00:10  lr: 0.000931  loss: 2.5028 (2.3289)  loss_classifier: 0.0344 (0.0385)  loss_box_reg: 0.0718 (0.0694)  loss_keypoint: 2.3741 (2.2055)  loss_objectness: 0.0093 (0.0111)  loss_rpn_box_reg: 0.0040 (0.0044)  time: 0.6162  data: 0.0064  max mem: 4079\n",
      "Epoch: [0]  [216/217]  eta: 0:00:00  lr: 0.001000  loss: 2.6034 (2.3478)  loss_classifier: 0.0349 (0.0382)  loss_box_reg: 0.0713 (0.0692)  loss_keypoint: 2.4895 (2.2248)  loss_objectness: 0.0117 (0.0112)  loss_rpn_box_reg: 0.0037 (0.0044)  time: 0.5848  data: 0.0069  max mem: 4079\n",
      "Epoch: [0] Total time: 0:02:11 (0.6074 s / it)\n",
      "Epoch: [0]  [  0/217]  eta: 0:02:14  lr: 0.000006  loss: 2.0901 (2.0901)  loss_classifier: 0.0277 (0.0277)  loss_box_reg: 0.0474 (0.0474)  loss_keypoint: 2.0035 (2.0035)  loss_objectness: 0.0079 (0.0079)  loss_rpn_box_reg: 0.0035 (0.0035)  time: 0.6181  data: 0.0092  max mem: 4079\n",
      "Epoch: [0]  [ 20/217]  eta: 0:01:59  lr: 0.000098  loss: 2.1729 (2.1970)  loss_classifier: 0.0353 (0.0368)  loss_box_reg: 0.0604 (0.0621)  loss_keypoint: 2.0810 (2.0850)  loss_objectness: 0.0077 (0.0092)  loss_rpn_box_reg: 0.0037 (0.0039)  time: 0.6050  data: 0.0068  max mem: 4079\n",
      "Epoch: [0]  [ 40/217]  eta: 0:01:48  lr: 0.000191  loss: 1.9683 (2.1134)  loss_classifier: 0.0338 (0.0357)  loss_box_reg: 0.0543 (0.0600)  loss_keypoint: 1.8576 (2.0044)  loss_objectness: 0.0074 (0.0093)  loss_rpn_box_reg: 0.0039 (0.0040)  time: 0.6160  data: 0.0068  max mem: 4079\n",
      "Epoch: [0]  [ 60/217]  eta: 0:01:36  lr: 0.000283  loss: 1.8726 (2.0355)  loss_classifier: 0.0312 (0.0358)  loss_box_reg: 0.0599 (0.0599)  loss_keypoint: 1.7531 (1.9269)  loss_objectness: 0.0069 (0.0088)  loss_rpn_box_reg: 0.0037 (0.0041)  time: 0.6183  data: 0.0071  max mem: 4079\n",
      "Epoch: [0]  [ 80/217]  eta: 0:01:24  lr: 0.000376  loss: 1.8267 (1.9986)  loss_classifier: 0.0345 (0.0356)  loss_box_reg: 0.0598 (0.0604)  loss_keypoint: 1.7308 (1.8898)  loss_objectness: 0.0067 (0.0087)  loss_rpn_box_reg: 0.0038 (0.0042)  time: 0.6292  data: 0.0073  max mem: 4079\n",
      "Epoch: [0]  [100/217]  eta: 0:01:12  lr: 0.000468  loss: 1.7843 (1.9698)  loss_classifier: 0.0318 (0.0356)  loss_box_reg: 0.0599 (0.0601)  loss_keypoint: 1.6972 (1.8618)  loss_objectness: 0.0064 (0.0082)  loss_rpn_box_reg: 0.0034 (0.0041)  time: 0.6115  data: 0.0066  max mem: 4079\n",
      "Epoch: [0]  [120/217]  eta: 0:00:59  lr: 0.000561  loss: 1.8453 (1.9684)  loss_classifier: 0.0282 (0.0347)  loss_box_reg: 0.0546 (0.0600)  loss_keypoint: 1.7633 (1.8614)  loss_objectness: 0.0057 (0.0081)  loss_rpn_box_reg: 0.0041 (0.0041)  time: 0.6176  data: 0.0069  max mem: 4079\n",
      "Epoch: [0]  [140/217]  eta: 0:00:47  lr: 0.000653  loss: 2.0389 (1.9799)  loss_classifier: 0.0290 (0.0341)  loss_box_reg: 0.0601 (0.0600)  loss_keypoint: 1.9470 (1.8738)  loss_objectness: 0.0062 (0.0080)  loss_rpn_box_reg: 0.0033 (0.0040)  time: 0.6083  data: 0.0064  max mem: 4079\n",
      "Epoch: [0]  [160/217]  eta: 0:00:34  lr: 0.000746  loss: 2.1013 (1.9972)  loss_classifier: 0.0282 (0.0337)  loss_box_reg: 0.0536 (0.0593)  loss_keypoint: 1.9945 (1.8923)  loss_objectness: 0.0058 (0.0079)  loss_rpn_box_reg: 0.0037 (0.0040)  time: 0.5940  data: 0.0069  max mem: 4079\n",
      "Epoch: [0]  [180/217]  eta: 0:00:22  lr: 0.000838  loss: 2.3719 (2.0506)  loss_classifier: 0.0311 (0.0334)  loss_box_reg: 0.0585 (0.0592)  loss_keypoint: 2.2755 (1.9463)  loss_objectness: 0.0055 (0.0078)  loss_rpn_box_reg: 0.0026 (0.0039)  time: 0.5971  data: 0.0066  max mem: 4079\n",
      "Epoch: [0]  [200/217]  eta: 0:00:10  lr: 0.000931  loss: 2.2847 (2.0829)  loss_classifier: 0.0285 (0.0332)  loss_box_reg: 0.0575 (0.0594)  loss_keypoint: 2.1785 (1.9785)  loss_objectness: 0.0074 (0.0078)  loss_rpn_box_reg: 0.0031 (0.0039)  time: 0.5926  data: 0.0066  max mem: 4079\n",
      "Epoch: [0]  [216/217]  eta: 0:00:00  lr: 0.001000  loss: 2.2903 (2.1040)  loss_classifier: 0.0281 (0.0331)  loss_box_reg: 0.0530 (0.0589)  loss_keypoint: 2.1908 (2.0003)  loss_objectness: 0.0063 (0.0078)  loss_rpn_box_reg: 0.0027 (0.0039)  time: 0.5866  data: 0.0065  max mem: 4079\n",
      "Epoch: [0] Total time: 0:02:11 (0.6075 s / it)\n",
      "Epoch: [0]  [  0/217]  eta: 0:02:13  lr: 0.000006  loss: 1.9341 (1.9341)  loss_classifier: 0.0273 (0.0273)  loss_box_reg: 0.0577 (0.0577)  loss_keypoint: 1.8387 (1.8387)  loss_objectness: 0.0079 (0.0079)  loss_rpn_box_reg: 0.0025 (0.0025)  time: 0.6142  data: 0.0063  max mem: 4079\n",
      "Epoch: [0]  [ 20/217]  eta: 0:01:58  lr: 0.000098  loss: 2.0960 (2.1245)  loss_classifier: 0.0293 (0.0297)  loss_box_reg: 0.0493 (0.0511)  loss_keypoint: 1.9939 (2.0321)  loss_objectness: 0.0077 (0.0085)  loss_rpn_box_reg: 0.0028 (0.0032)  time: 0.6014  data: 0.0065  max mem: 4079\n",
      "Epoch: [0]  [ 40/217]  eta: 0:01:47  lr: 0.000191  loss: 1.6945 (1.9496)  loss_classifier: 0.0307 (0.0301)  loss_box_reg: 0.0564 (0.0527)  loss_keypoint: 1.5880 (1.8554)  loss_objectness: 0.0054 (0.0080)  loss_rpn_box_reg: 0.0039 (0.0034)  time: 0.6183  data: 0.0065  max mem: 4079\n",
      "Epoch: [0]  [ 60/217]  eta: 0:01:36  lr: 0.000283  loss: 1.5959 (1.8396)  loss_classifier: 0.0287 (0.0298)  loss_box_reg: 0.0513 (0.0534)  loss_keypoint: 1.5089 (1.7459)  loss_objectness: 0.0041 (0.0071)  loss_rpn_box_reg: 0.0035 (0.0035)  time: 0.6196  data: 0.0064  max mem: 4079\n",
      "Epoch: [0]  [ 80/217]  eta: 0:01:24  lr: 0.000376  loss: 1.6552 (1.8046)  loss_classifier: 0.0283 (0.0298)  loss_box_reg: 0.0519 (0.0537)  loss_keypoint: 1.5702 (1.7112)  loss_objectness: 0.0037 (0.0064)  loss_rpn_box_reg: 0.0030 (0.0035)  time: 0.6167  data: 0.0068  max mem: 4079\n",
      "Epoch: [0]  [100/217]  eta: 0:01:11  lr: 0.000468  loss: 1.4855 (1.7532)  loss_classifier: 0.0277 (0.0302)  loss_box_reg: 0.0465 (0.0525)  loss_keypoint: 1.4024 (1.6612)  loss_objectness: 0.0035 (0.0059)  loss_rpn_box_reg: 0.0027 (0.0034)  time: 0.6183  data: 0.0065  max mem: 4079\n",
      "Epoch: [0]  [120/217]  eta: 0:00:59  lr: 0.000561  loss: 1.4635 (1.7176)  loss_classifier: 0.0269 (0.0296)  loss_box_reg: 0.0465 (0.0518)  loss_keypoint: 1.3616 (1.6272)  loss_objectness: 0.0035 (0.0056)  loss_rpn_box_reg: 0.0032 (0.0034)  time: 0.6220  data: 0.0070  max mem: 4079\n",
      "Epoch: [0]  [140/217]  eta: 0:00:47  lr: 0.000653  loss: 1.7125 (1.7291)  loss_classifier: 0.0289 (0.0297)  loss_box_reg: 0.0522 (0.0524)  loss_keypoint: 1.6095 (1.6379)  loss_objectness: 0.0044 (0.0057)  loss_rpn_box_reg: 0.0034 (0.0035)  time: 0.6073  data: 0.0065  max mem: 4079\n",
      "Epoch: [0]  [160/217]  eta: 0:00:35  lr: 0.000746  loss: 1.6470 (1.7383)  loss_classifier: 0.0267 (0.0294)  loss_box_reg: 0.0598 (0.0535)  loss_keypoint: 1.5539 (1.6462)  loss_objectness: 0.0047 (0.0057)  loss_rpn_box_reg: 0.0032 (0.0035)  time: 0.6173  data: 0.0065  max mem: 4079\n",
      "Epoch: [0]  [180/217]  eta: 0:00:22  lr: 0.000838  loss: 2.0450 (1.7816)  loss_classifier: 0.0286 (0.0295)  loss_box_reg: 0.0640 (0.0545)  loss_keypoint: 1.9460 (1.6880)  loss_objectness: 0.0047 (0.0059)  loss_rpn_box_reg: 0.0043 (0.0037)  time: 0.6074  data: 0.0066  max mem: 4079\n"
     ]
    },
    {
     "name": "stdout",
     "output_type": "stream",
     "text": [
      "Epoch: [0]  [200/217]  eta: 0:00:10  lr: 0.000931  loss: 1.9102 (1.7991)  loss_classifier: 0.0288 (0.0294)  loss_box_reg: 0.0563 (0.0547)  loss_keypoint: 1.8128 (1.7054)  loss_objectness: 0.0052 (0.0059)  loss_rpn_box_reg: 0.0027 (0.0036)  time: 0.6183  data: 0.0068  max mem: 4079\n",
      "Epoch: [0]  [216/217]  eta: 0:00:00  lr: 0.001000  loss: 1.9389 (1.8233)  loss_classifier: 0.0292 (0.0296)  loss_box_reg: 0.0522 (0.0545)  loss_keypoint: 1.8358 (1.7297)  loss_objectness: 0.0043 (0.0059)  loss_rpn_box_reg: 0.0030 (0.0036)  time: 0.5975  data: 0.0064  max mem: 4079\n",
      "Epoch: [0] Total time: 0:02:13 (0.6131 s / it)\n"
     ]
    }
   ],
   "source": [
    "params = [p for p in model.parameters() if p.requires_grad]\n",
    "optimizer = torch.optim.SGD(params, lr=0.001, momentum=0.9, weight_decay=0.0005)\n",
    "lr_scheduler = torch.optim.lr_scheduler.StepLR(optimizer, step_size=5, gamma=0.3)\n",
    "num_epochs = 5\n",
    "\n",
    "loss_list = []\n",
    "epoch = 0\n",
    "for i in range(num_epochs):\n",
    "  train_one_epoch(model, optimizer, data_loader, device, epoch, print_freq=20)\n",
    "  lr_scheduler.step()"
   ]
  },
  {
   "cell_type": "code",
   "execution_count": 10,
   "metadata": {
    "colab": {
     "base_uri": "https://localhost:8080/",
     "height": 36
    },
    "id": "E6QhGCIY6d2c",
    "outputId": "c8b7ccd9-9d30-4cfa-f786-8ecf6735f029"
   },
   "outputs": [
    {
     "data": {
      "text/plain": [
       "'/home/cs/Downloads/keypoint rcnn'"
      ]
     },
     "execution_count": 10,
     "metadata": {},
     "output_type": "execute_result"
    }
   ],
   "source": [
    "torch.save(model,'real_keypoint.pt')\n",
    "os.getcwd()"
   ]
  },
  {
   "cell_type": "markdown",
   "metadata": {
    "id": "W0OMqrxH66N0"
   },
   "source": [
    "#**Validation**"
   ]
  },
  {
   "cell_type": "code",
   "execution_count": 11,
   "metadata": {
    "colab": {
     "base_uri": "https://localhost:8080/"
    },
    "id": "o0PT6bz1-zgo",
    "outputId": "5abece73-b819-46f2-95ad-cc0ae1bf0caf"
   },
   "outputs": [
    {
     "data": {
      "text/plain": [
       "KeypointRCNN(\n",
       "  (transform): GeneralizedRCNNTransform(\n",
       "      Normalize(mean=[0.485, 0.456, 0.406], std=[0.229, 0.224, 0.225])\n",
       "      Resize(min_size=(640, 672, 704, 736, 768, 800), max_size=1333, mode='bilinear')\n",
       "  )\n",
       "  (backbone): BackboneWithFPN(\n",
       "    (body): IntermediateLayerGetter(\n",
       "      (conv1): Conv2d(3, 64, kernel_size=(7, 7), stride=(2, 2), padding=(3, 3), bias=False)\n",
       "      (bn1): FrozenBatchNorm2d(64, eps=1e-05)\n",
       "      (relu): ReLU(inplace=True)\n",
       "      (maxpool): MaxPool2d(kernel_size=3, stride=2, padding=1, dilation=1, ceil_mode=False)\n",
       "      (layer1): Sequential(\n",
       "        (0): Bottleneck(\n",
       "          (conv1): Conv2d(64, 64, kernel_size=(1, 1), stride=(1, 1), bias=False)\n",
       "          (bn1): FrozenBatchNorm2d(64, eps=1e-05)\n",
       "          (conv2): Conv2d(64, 64, kernel_size=(3, 3), stride=(1, 1), padding=(1, 1), bias=False)\n",
       "          (bn2): FrozenBatchNorm2d(64, eps=1e-05)\n",
       "          (conv3): Conv2d(64, 256, kernel_size=(1, 1), stride=(1, 1), bias=False)\n",
       "          (bn3): FrozenBatchNorm2d(256, eps=1e-05)\n",
       "          (relu): ReLU(inplace=True)\n",
       "          (downsample): Sequential(\n",
       "            (0): Conv2d(64, 256, kernel_size=(1, 1), stride=(1, 1), bias=False)\n",
       "            (1): FrozenBatchNorm2d(256, eps=1e-05)\n",
       "          )\n",
       "        )\n",
       "        (1): Bottleneck(\n",
       "          (conv1): Conv2d(256, 64, kernel_size=(1, 1), stride=(1, 1), bias=False)\n",
       "          (bn1): FrozenBatchNorm2d(64, eps=1e-05)\n",
       "          (conv2): Conv2d(64, 64, kernel_size=(3, 3), stride=(1, 1), padding=(1, 1), bias=False)\n",
       "          (bn2): FrozenBatchNorm2d(64, eps=1e-05)\n",
       "          (conv3): Conv2d(64, 256, kernel_size=(1, 1), stride=(1, 1), bias=False)\n",
       "          (bn3): FrozenBatchNorm2d(256, eps=1e-05)\n",
       "          (relu): ReLU(inplace=True)\n",
       "        )\n",
       "        (2): Bottleneck(\n",
       "          (conv1): Conv2d(256, 64, kernel_size=(1, 1), stride=(1, 1), bias=False)\n",
       "          (bn1): FrozenBatchNorm2d(64, eps=1e-05)\n",
       "          (conv2): Conv2d(64, 64, kernel_size=(3, 3), stride=(1, 1), padding=(1, 1), bias=False)\n",
       "          (bn2): FrozenBatchNorm2d(64, eps=1e-05)\n",
       "          (conv3): Conv2d(64, 256, kernel_size=(1, 1), stride=(1, 1), bias=False)\n",
       "          (bn3): FrozenBatchNorm2d(256, eps=1e-05)\n",
       "          (relu): ReLU(inplace=True)\n",
       "        )\n",
       "      )\n",
       "      (layer2): Sequential(\n",
       "        (0): Bottleneck(\n",
       "          (conv1): Conv2d(256, 128, kernel_size=(1, 1), stride=(1, 1), bias=False)\n",
       "          (bn1): FrozenBatchNorm2d(128, eps=1e-05)\n",
       "          (conv2): Conv2d(128, 128, kernel_size=(3, 3), stride=(2, 2), padding=(1, 1), bias=False)\n",
       "          (bn2): FrozenBatchNorm2d(128, eps=1e-05)\n",
       "          (conv3): Conv2d(128, 512, kernel_size=(1, 1), stride=(1, 1), bias=False)\n",
       "          (bn3): FrozenBatchNorm2d(512, eps=1e-05)\n",
       "          (relu): ReLU(inplace=True)\n",
       "          (downsample): Sequential(\n",
       "            (0): Conv2d(256, 512, kernel_size=(1, 1), stride=(2, 2), bias=False)\n",
       "            (1): FrozenBatchNorm2d(512, eps=1e-05)\n",
       "          )\n",
       "        )\n",
       "        (1): Bottleneck(\n",
       "          (conv1): Conv2d(512, 128, kernel_size=(1, 1), stride=(1, 1), bias=False)\n",
       "          (bn1): FrozenBatchNorm2d(128, eps=1e-05)\n",
       "          (conv2): Conv2d(128, 128, kernel_size=(3, 3), stride=(1, 1), padding=(1, 1), bias=False)\n",
       "          (bn2): FrozenBatchNorm2d(128, eps=1e-05)\n",
       "          (conv3): Conv2d(128, 512, kernel_size=(1, 1), stride=(1, 1), bias=False)\n",
       "          (bn3): FrozenBatchNorm2d(512, eps=1e-05)\n",
       "          (relu): ReLU(inplace=True)\n",
       "        )\n",
       "        (2): Bottleneck(\n",
       "          (conv1): Conv2d(512, 128, kernel_size=(1, 1), stride=(1, 1), bias=False)\n",
       "          (bn1): FrozenBatchNorm2d(128, eps=1e-05)\n",
       "          (conv2): Conv2d(128, 128, kernel_size=(3, 3), stride=(1, 1), padding=(1, 1), bias=False)\n",
       "          (bn2): FrozenBatchNorm2d(128, eps=1e-05)\n",
       "          (conv3): Conv2d(128, 512, kernel_size=(1, 1), stride=(1, 1), bias=False)\n",
       "          (bn3): FrozenBatchNorm2d(512, eps=1e-05)\n",
       "          (relu): ReLU(inplace=True)\n",
       "        )\n",
       "        (3): Bottleneck(\n",
       "          (conv1): Conv2d(512, 128, kernel_size=(1, 1), stride=(1, 1), bias=False)\n",
       "          (bn1): FrozenBatchNorm2d(128, eps=1e-05)\n",
       "          (conv2): Conv2d(128, 128, kernel_size=(3, 3), stride=(1, 1), padding=(1, 1), bias=False)\n",
       "          (bn2): FrozenBatchNorm2d(128, eps=1e-05)\n",
       "          (conv3): Conv2d(128, 512, kernel_size=(1, 1), stride=(1, 1), bias=False)\n",
       "          (bn3): FrozenBatchNorm2d(512, eps=1e-05)\n",
       "          (relu): ReLU(inplace=True)\n",
       "        )\n",
       "      )\n",
       "      (layer3): Sequential(\n",
       "        (0): Bottleneck(\n",
       "          (conv1): Conv2d(512, 256, kernel_size=(1, 1), stride=(1, 1), bias=False)\n",
       "          (bn1): FrozenBatchNorm2d(256, eps=1e-05)\n",
       "          (conv2): Conv2d(256, 256, kernel_size=(3, 3), stride=(2, 2), padding=(1, 1), bias=False)\n",
       "          (bn2): FrozenBatchNorm2d(256, eps=1e-05)\n",
       "          (conv3): Conv2d(256, 1024, kernel_size=(1, 1), stride=(1, 1), bias=False)\n",
       "          (bn3): FrozenBatchNorm2d(1024, eps=1e-05)\n",
       "          (relu): ReLU(inplace=True)\n",
       "          (downsample): Sequential(\n",
       "            (0): Conv2d(512, 1024, kernel_size=(1, 1), stride=(2, 2), bias=False)\n",
       "            (1): FrozenBatchNorm2d(1024, eps=1e-05)\n",
       "          )\n",
       "        )\n",
       "        (1): Bottleneck(\n",
       "          (conv1): Conv2d(1024, 256, kernel_size=(1, 1), stride=(1, 1), bias=False)\n",
       "          (bn1): FrozenBatchNorm2d(256, eps=1e-05)\n",
       "          (conv2): Conv2d(256, 256, kernel_size=(3, 3), stride=(1, 1), padding=(1, 1), bias=False)\n",
       "          (bn2): FrozenBatchNorm2d(256, eps=1e-05)\n",
       "          (conv3): Conv2d(256, 1024, kernel_size=(1, 1), stride=(1, 1), bias=False)\n",
       "          (bn3): FrozenBatchNorm2d(1024, eps=1e-05)\n",
       "          (relu): ReLU(inplace=True)\n",
       "        )\n",
       "        (2): Bottleneck(\n",
       "          (conv1): Conv2d(1024, 256, kernel_size=(1, 1), stride=(1, 1), bias=False)\n",
       "          (bn1): FrozenBatchNorm2d(256, eps=1e-05)\n",
       "          (conv2): Conv2d(256, 256, kernel_size=(3, 3), stride=(1, 1), padding=(1, 1), bias=False)\n",
       "          (bn2): FrozenBatchNorm2d(256, eps=1e-05)\n",
       "          (conv3): Conv2d(256, 1024, kernel_size=(1, 1), stride=(1, 1), bias=False)\n",
       "          (bn3): FrozenBatchNorm2d(1024, eps=1e-05)\n",
       "          (relu): ReLU(inplace=True)\n",
       "        )\n",
       "        (3): Bottleneck(\n",
       "          (conv1): Conv2d(1024, 256, kernel_size=(1, 1), stride=(1, 1), bias=False)\n",
       "          (bn1): FrozenBatchNorm2d(256, eps=1e-05)\n",
       "          (conv2): Conv2d(256, 256, kernel_size=(3, 3), stride=(1, 1), padding=(1, 1), bias=False)\n",
       "          (bn2): FrozenBatchNorm2d(256, eps=1e-05)\n",
       "          (conv3): Conv2d(256, 1024, kernel_size=(1, 1), stride=(1, 1), bias=False)\n",
       "          (bn3): FrozenBatchNorm2d(1024, eps=1e-05)\n",
       "          (relu): ReLU(inplace=True)\n",
       "        )\n",
       "        (4): Bottleneck(\n",
       "          (conv1): Conv2d(1024, 256, kernel_size=(1, 1), stride=(1, 1), bias=False)\n",
       "          (bn1): FrozenBatchNorm2d(256, eps=1e-05)\n",
       "          (conv2): Conv2d(256, 256, kernel_size=(3, 3), stride=(1, 1), padding=(1, 1), bias=False)\n",
       "          (bn2): FrozenBatchNorm2d(256, eps=1e-05)\n",
       "          (conv3): Conv2d(256, 1024, kernel_size=(1, 1), stride=(1, 1), bias=False)\n",
       "          (bn3): FrozenBatchNorm2d(1024, eps=1e-05)\n",
       "          (relu): ReLU(inplace=True)\n",
       "        )\n",
       "        (5): Bottleneck(\n",
       "          (conv1): Conv2d(1024, 256, kernel_size=(1, 1), stride=(1, 1), bias=False)\n",
       "          (bn1): FrozenBatchNorm2d(256, eps=1e-05)\n",
       "          (conv2): Conv2d(256, 256, kernel_size=(3, 3), stride=(1, 1), padding=(1, 1), bias=False)\n",
       "          (bn2): FrozenBatchNorm2d(256, eps=1e-05)\n",
       "          (conv3): Conv2d(256, 1024, kernel_size=(1, 1), stride=(1, 1), bias=False)\n",
       "          (bn3): FrozenBatchNorm2d(1024, eps=1e-05)\n",
       "          (relu): ReLU(inplace=True)\n",
       "        )\n",
       "      )\n",
       "      (layer4): Sequential(\n",
       "        (0): Bottleneck(\n",
       "          (conv1): Conv2d(1024, 512, kernel_size=(1, 1), stride=(1, 1), bias=False)\n",
       "          (bn1): FrozenBatchNorm2d(512, eps=1e-05)\n",
       "          (conv2): Conv2d(512, 512, kernel_size=(3, 3), stride=(2, 2), padding=(1, 1), bias=False)\n",
       "          (bn2): FrozenBatchNorm2d(512, eps=1e-05)\n",
       "          (conv3): Conv2d(512, 2048, kernel_size=(1, 1), stride=(1, 1), bias=False)\n",
       "          (bn3): FrozenBatchNorm2d(2048, eps=1e-05)\n",
       "          (relu): ReLU(inplace=True)\n",
       "          (downsample): Sequential(\n",
       "            (0): Conv2d(1024, 2048, kernel_size=(1, 1), stride=(2, 2), bias=False)\n",
       "            (1): FrozenBatchNorm2d(2048, eps=1e-05)\n",
       "          )\n",
       "        )\n",
       "        (1): Bottleneck(\n",
       "          (conv1): Conv2d(2048, 512, kernel_size=(1, 1), stride=(1, 1), bias=False)\n",
       "          (bn1): FrozenBatchNorm2d(512, eps=1e-05)\n",
       "          (conv2): Conv2d(512, 512, kernel_size=(3, 3), stride=(1, 1), padding=(1, 1), bias=False)\n",
       "          (bn2): FrozenBatchNorm2d(512, eps=1e-05)\n",
       "          (conv3): Conv2d(512, 2048, kernel_size=(1, 1), stride=(1, 1), bias=False)\n",
       "          (bn3): FrozenBatchNorm2d(2048, eps=1e-05)\n",
       "          (relu): ReLU(inplace=True)\n",
       "        )\n",
       "        (2): Bottleneck(\n",
       "          (conv1): Conv2d(2048, 512, kernel_size=(1, 1), stride=(1, 1), bias=False)\n",
       "          (bn1): FrozenBatchNorm2d(512, eps=1e-05)\n",
       "          (conv2): Conv2d(512, 512, kernel_size=(3, 3), stride=(1, 1), padding=(1, 1), bias=False)\n",
       "          (bn2): FrozenBatchNorm2d(512, eps=1e-05)\n",
       "          (conv3): Conv2d(512, 2048, kernel_size=(1, 1), stride=(1, 1), bias=False)\n",
       "          (bn3): FrozenBatchNorm2d(2048, eps=1e-05)\n",
       "          (relu): ReLU(inplace=True)\n",
       "        )\n",
       "      )\n",
       "    )\n",
       "    (fpn): FeaturePyramidNetwork(\n",
       "      (inner_blocks): ModuleList(\n",
       "        (0): Conv2d(256, 256, kernel_size=(1, 1), stride=(1, 1))\n",
       "        (1): Conv2d(512, 256, kernel_size=(1, 1), stride=(1, 1))\n",
       "        (2): Conv2d(1024, 256, kernel_size=(1, 1), stride=(1, 1))\n",
       "        (3): Conv2d(2048, 256, kernel_size=(1, 1), stride=(1, 1))\n",
       "      )\n",
       "      (layer_blocks): ModuleList(\n",
       "        (0): Conv2d(256, 256, kernel_size=(3, 3), stride=(1, 1), padding=(1, 1))\n",
       "        (1): Conv2d(256, 256, kernel_size=(3, 3), stride=(1, 1), padding=(1, 1))\n",
       "        (2): Conv2d(256, 256, kernel_size=(3, 3), stride=(1, 1), padding=(1, 1))\n",
       "        (3): Conv2d(256, 256, kernel_size=(3, 3), stride=(1, 1), padding=(1, 1))\n",
       "      )\n",
       "      (extra_blocks): LastLevelMaxPool()\n",
       "    )\n",
       "  )\n",
       "  (rpn): RegionProposalNetwork(\n",
       "    (anchor_generator): AnchorGenerator()\n",
       "    (head): RPNHead(\n",
       "      (conv): Conv2d(256, 256, kernel_size=(3, 3), stride=(1, 1), padding=(1, 1))\n",
       "      (cls_logits): Conv2d(256, 7, kernel_size=(1, 1), stride=(1, 1))\n",
       "      (bbox_pred): Conv2d(256, 28, kernel_size=(1, 1), stride=(1, 1))\n",
       "    )\n",
       "  )\n",
       "  (roi_heads): RoIHeads(\n",
       "    (box_roi_pool): MultiScaleRoIAlign(featmap_names=['0', '1', '2', '3'], output_size=(7, 7), sampling_ratio=2)\n",
       "    (box_head): TwoMLPHead(\n",
       "      (fc6): Linear(in_features=12544, out_features=1024, bias=True)\n",
       "      (fc7): Linear(in_features=1024, out_features=1024, bias=True)\n",
       "    )\n",
       "    (box_predictor): FastRCNNPredictor(\n",
       "      (cls_score): Linear(in_features=1024, out_features=2, bias=True)\n",
       "      (bbox_pred): Linear(in_features=1024, out_features=8, bias=True)\n",
       "    )\n",
       "    (keypoint_roi_pool): MultiScaleRoIAlign(featmap_names=['0', '1', '2', '3'], output_size=(14, 14), sampling_ratio=2)\n",
       "    (keypoint_head): KeypointRCNNHeads(\n",
       "      (0): Conv2d(256, 512, kernel_size=(3, 3), stride=(1, 1), padding=(1, 1))\n",
       "      (1): ReLU(inplace=True)\n",
       "      (2): Conv2d(512, 512, kernel_size=(3, 3), stride=(1, 1), padding=(1, 1))\n",
       "      (3): ReLU(inplace=True)\n",
       "      (4): Conv2d(512, 512, kernel_size=(3, 3), stride=(1, 1), padding=(1, 1))\n",
       "      (5): ReLU(inplace=True)\n",
       "      (6): Conv2d(512, 512, kernel_size=(3, 3), stride=(1, 1), padding=(1, 1))\n",
       "      (7): ReLU(inplace=True)\n",
       "      (8): Conv2d(512, 512, kernel_size=(3, 3), stride=(1, 1), padding=(1, 1))\n",
       "      (9): ReLU(inplace=True)\n",
       "      (10): Conv2d(512, 512, kernel_size=(3, 3), stride=(1, 1), padding=(1, 1))\n",
       "      (11): ReLU(inplace=True)\n",
       "      (12): Conv2d(512, 512, kernel_size=(3, 3), stride=(1, 1), padding=(1, 1))\n",
       "      (13): ReLU(inplace=True)\n",
       "      (14): Conv2d(512, 512, kernel_size=(3, 3), stride=(1, 1), padding=(1, 1))\n",
       "      (15): ReLU(inplace=True)\n",
       "    )\n",
       "    (keypoint_predictor): KeypointRCNNPredictor(\n",
       "      (kps_score_lowres): ConvTranspose2d(512, 5, kernel_size=(4, 4), stride=(2, 2), padding=(1, 1))\n",
       "    )\n",
       "  )\n",
       ")"
      ]
     },
     "execution_count": 11,
     "metadata": {},
     "output_type": "execute_result"
    }
   ],
   "source": [
    "model = torch.load('real_keypoint.pt')\n",
    "model.to(device)"
   ]
  },
  {
   "cell_type": "code",
   "execution_count": 18,
   "metadata": {
    "colab": {
     "base_uri": "https://localhost:8080/",
     "height": 737
    },
    "id": "DBODHdsN1OIM",
    "outputId": "064d9ed9-b68a-404f-c719-e9113d79bde5"
   },
   "outputs": [],
   "source": [
    "n=439\n",
    "img = images[n]\n",
    "img = F.to_tensor(img).to(device)\n",
    "model.eval()\n",
    "output = model([img])\n",
    "\n",
    "scores = output[0]['scores'].detach().cpu().numpy()\n",
    "np.where(scores > 0.6)[0].tolist()\n",
    "\n",
    "kp = output[0]['keypoints'][np.where(scores > 0.01)[0].tolist()].detach().cpu().numpy().astype(np.int32)\n",
    "kp = kp[0,:,0:2]\n",
    "\n",
    "img = images[n]\n",
    "visualize(img,np.array(kp).T)"
   ]
  },
  {
   "cell_type": "code",
   "execution_count": 26,
   "metadata": {
    "colab": {
     "base_uri": "https://localhost:8080/",
     "height": 737
    },
    "id": "SNDLAzlu6U3P",
    "outputId": "f96a96b4-c9df-49ef-8143-af7c48420474"
   },
   "outputs": [],
   "source": [
    "img = cv2.imread('/home/cs/Downloads/keypoint rcnn/baxter_real_dataset/Dataset/test1.jpg')\n",
    "img = F.to_tensor(img).to(device)\n",
    "model.eval()\n",
    "output = model([img])\n",
    "\n",
    "scores = output[0]['scores'].detach().cpu().numpy()\n",
    "np.where(scores > 0.6)[0].tolist()\n",
    "\n",
    "kp = output[0]['keypoints'][np.where(scores > 0.7)[0].tolist()].detach().cpu().numpy().astype(np.int32)\n",
    "kp = kp[0,:,0:2]\n",
    "\n",
    "img = cv2.imread('/home/cs/Downloads/keypoint rcnn/baxter_real_dataset/Dataset/test1.jpg')\n",
    "visualize(img,np.array(kp).T)"
   ]
  },
  {
   "cell_type": "code",
   "execution_count": 27,
   "metadata": {
    "colab": {
     "base_uri": "https://localhost:8080/",
     "height": 737
    },
    "id": "wUyfQoig8X6u",
    "outputId": "1f732898-348a-43cf-ab39-d95b552d3140"
   },
   "outputs": [],
   "source": [
    "img = cv2.imread('/home/cs/Downloads/keypoint rcnn/baxter_real_dataset/Dataset/test2.png')\n",
    "img = F.to_tensor(img).to(device)\n",
    "model.eval()\n",
    "output = model([img])\n",
    "\n",
    "scores = output[0]['scores'].detach().cpu().numpy()\n",
    "np.where(scores > 0.6)[0].tolist()\n",
    "\n",
    "kp = output[0]['keypoints'][np.where(scores > 0.7)[0].tolist()].detach().cpu().numpy().astype(np.int32)\n",
    "kp = kp[0,:,0:2]\n",
    "\n",
    "img = cv2.imread('/home/cs/Downloads/keypoint rcnn/baxter_real_dataset/Dataset/test2.png')\n",
    "visualize(img,np.array(kp).T)"
   ]
  }
 ],
 "metadata": {
  "accelerator": "GPU",
  "colab": {
   "collapsed_sections": [],
   "name": "Keypoint Rcnn main.ipynb",
   "provenance": []
  },
  "gpuClass": "standard",
  "kernelspec": {
   "display_name": "Python 3",
   "language": "python",
   "name": "python3"
  },
  "language_info": {
   "codemirror_mode": {
    "name": "ipython",
    "version": 3
   },
   "file_extension": ".py",
   "mimetype": "text/x-python",
   "name": "python",
   "nbconvert_exporter": "python",
   "pygments_lexer": "ipython3",
   "version": "3.6.13"
  }
 },
 "nbformat": 4,
 "nbformat_minor": 1
}
